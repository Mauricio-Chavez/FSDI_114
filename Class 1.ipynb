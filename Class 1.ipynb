{
 "cells": [
  {
   "cell_type": "code",
   "execution_count": 3,
   "id": "b48e84ce-504c-4258-8957-2534d2eb8c6d",
   "metadata": {},
   "outputs": [
    {
     "name": "stdout",
     "output_type": "stream",
     "text": [
      "h\n",
      "e\n",
      "l\n",
      "l\n",
      "o\n",
      ",\n",
      " \n",
      "w\n",
      "o\n",
      "r\n",
      "l\n",
      "d\n",
      "!\n"
     ]
    }
   ],
   "source": [
    "for char in 'hello, world!':\n",
    "    print(char)"
   ]
  },
  {
   "cell_type": "markdown",
   "id": "9752c64f-d49e-419a-8f91-2f1c650a02f4",
   "metadata": {},
   "source": [
    "#Problem 1\n",
    "## Anagram check \n",
    "Given two strings as inputs to your function, determine if these are anagrams of each other. Return `True` if they are, `False` otherwise\n",
    "\n",
    "### Criteria\n",
    "Two strings are anagrams if all the creiteria below are met:\n",
    "1. They must be of equal length.\n",
    "2. They must use the same letters, the same amount of times\n",
    "\n",
    "```\n",
    "Examples:\n",
    "anagram_check(\"heart\", \"earth\") should return True\n",
    "anagram_check(\"scar\", \"cars\") should return True\n",
    "anagram_check(\"star\", \"rats\") should return True\n",
    "anagram_check(\"aaab\", \"aabb\") should return False\n",
    "```\n",
    "\n",
    "\n"
   ]
  },
  {
   "cell_type": "code",
   "execution_count": 12,
   "id": "f782d81b-5946-4b86-af25-b192a9441974",
   "metadata": {},
   "outputs": [
    {
     "name": "stdout",
     "output_type": "stream",
     "text": [
      "False\n"
     ]
    }
   ],
   "source": [
    "def anagram_check(str1,str2):\n",
    "    return sorted(str1) == sorted(str2)\n",
    "\n",
    "print(anagram_check('lord Voldemort', 'Tom Marvolo Riddle'))  "
   ]
  },
  {
   "cell_type": "code",
   "execution_count": 25,
   "id": "817de61e-50c1-4a89-a666-e5567f8d5dfd",
   "metadata": {},
   "outputs": [
    {
     "name": "stdout",
     "output_type": "stream",
     "text": [
      "True\n",
      "False\n"
     ]
    }
   ],
   "source": [
    "def anagram_check(word1,word2):\n",
    "    word1 = word1.replace(' ','').lower()\n",
    "    word2 = word2.replace(' ','').lower()\n",
    "    \n",
    "    if len(word1) != len(word2):\n",
    "        return False\n",
    "\n",
    "    for letter in set(word1):\n",
    "        c1 = sum(1 for l in word1 if l == letter)\n",
    "        c2 = sum(1 for l in word2 if l == letter)\n",
    "        \n",
    "        if c1 != c2:\n",
    "            return False\n",
    "    return True\n",
    "\n",
    "print(anagram_check('I am Lord Voldemort','Tom Marvolo Riddle'))\n",
    "print(anagram_check(\"aaab\", \"aabb\"))"
   ]
  },
  {
   "cell_type": "code",
   "execution_count": 24,
   "id": "49894552-20c9-42e0-99bf-1f438353ec2d",
   "metadata": {},
   "outputs": [],
   "source": [
    "#1.- define a function to validate the anagram, it must receive 2 parameters\n",
    "#2.- remove spaces and convert words or phrases received by the function to lower case.\n",
    "#3.- Validate by means of an if that the words are composed of the same number of letters, if not exit the function returning false.\n",
    "#4.- by cycling through an array without the repeated letters of the word \n",
    "#in each round of the cycle check that the letter being checked from the array is found the same number of times in both words by means \n",
    "#5.- of an if if any letter is not found the same number of times exit the function returning false."
   ]
  },
  {
   "cell_type": "code",
   "execution_count": null,
   "id": "6513dba5-b97f-4c4d-93de-c9fa1f97b4bf",
   "metadata": {},
   "outputs": [],
   "source": []
  }
 ],
 "metadata": {
  "kernelspec": {
   "display_name": "Python 3 (ipykernel)",
   "language": "python",
   "name": "python3"
  },
  "language_info": {
   "codemirror_mode": {
    "name": "ipython",
    "version": 3
   },
   "file_extension": ".py",
   "mimetype": "text/x-python",
   "name": "python",
   "nbconvert_exporter": "python",
   "pygments_lexer": "ipython3",
   "version": "3.10.12"
  }
 },
 "nbformat": 4,
 "nbformat_minor": 5
}
