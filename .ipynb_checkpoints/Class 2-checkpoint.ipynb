{
 "cells": [
  {
   "cell_type": "code",
   "execution_count": 3,
   "id": "d460c258-f444-49a7-89c5-de65fd1eaf08",
   "metadata": {},
   "outputs": [],
   "source": [
    "# Simplified implementation of Stack (using built-ins)\n",
    "\n",
    "class Stack:\n",
    "    def __init__(self):\n",
    "        self.items = []\n",
    "    def push(self,value):\n",
    "        self.items.append(value)\n",
    "    def pop(self):\n",
    "        return self.items.pop()\n",
    "    def size(self):\n",
    "        return len(self.items)\n",
    "    def peek(self):\n",
    "        return self.items[len(self.items)-1]\n",
    "    def is_empty(self):\n",
    "        return self.items == []\n"
   ]
  },
  {
   "cell_type": "code",
   "execution_count": 4,
   "id": "05b50cf9-b670-4031-9e8a-113284ec85a9",
   "metadata": {},
   "outputs": [
    {
     "data": {
      "text/plain": [
       "'oiciruaM'"
      ]
     },
     "execution_count": 4,
     "metadata": {},
     "output_type": "execute_result"
    }
   ],
   "source": [
    "def invert_str(somestring):\n",
    "    stack = Stack()\n",
    "    for char in somestring:\n",
    "        stack.push(char)\n",
    "    out = ''\n",
    "    while not stack.is_empty():\n",
    "        out+=stack.pop()\n",
    "    return out\n",
    "invert_str('Mauricio')"
   ]
  },
  {
   "cell_type": "code",
   "execution_count": 7,
   "id": "615bceaa-9a24-4fd1-be40-8352440a0f37",
   "metadata": {},
   "outputs": [
    {
     "name": "stdout",
     "output_type": "stream",
     "text": [
      "5\n",
      "140644436754832\n",
      "140644436754800\n"
     ]
    }
   ],
   "source": [
    "# In python the primary data types are:\n",
    "#int, bool, float \n",
    "x = 5\n",
    "y = x\n",
    "x+=1\n",
    "print(y)\n",
    "\n",
    "print(id(x))\n",
    "print(id(y))"
   ]
  },
  {
   "cell_type": "code",
   "execution_count": 9,
   "id": "577683ca-3b8c-4c0f-8748-a5c0a52c4cee",
   "metadata": {},
   "outputs": [
    {
     "name": "stdout",
     "output_type": "stream",
     "text": [
      "[1, 2, 3, 4]\n",
      "140644092528960\n",
      "140644092528960\n"
     ]
    }
   ],
   "source": [
    "#other data types and structures pass by reference\n",
    "\n",
    "x= [1 ,2, 3]\n",
    "y=x\n",
    "y.append(4)\n",
    "\n",
    "print(x)\n",
    "print(id(x))\n",
    "print(id(y))"
   ]
  },
  {
   "cell_type": "code",
   "execution_count": 2,
   "id": "4db00b1b-4d91-4a30-82f1-473be3ebb662",
   "metadata": {},
   "outputs": [
    {
     "name": "stdout",
     "output_type": "stream",
     "text": [
      "3\n",
      "1\n",
      "Size:  2\n",
      "Peek:  3\n",
      "Empty:  False\n",
      "3\n",
      "1\n"
     ]
    }
   ],
   "source": [
    "class StackII:\n",
    "    class __Node:\n",
    "        def __init__(self, data):\n",
    "            self.data =data\n",
    "            self.below = None\n",
    "            \n",
    "    def __init__(self):\n",
    "        self.top = None\n",
    "        self._size = 0\n",
    "        \n",
    "    def push(self,value):\n",
    "        new_node = self.__Node(value)\n",
    "        if self.top is not None:\n",
    "            new_node.below = self.top\n",
    "        self.top = new_node\n",
    "        self._size += 1\n",
    "\n",
    "        #Create the new node with the class\n",
    "        # Use an if for verify the top exist\n",
    "        # if exist the new node points to old top\n",
    "        # the new node is the new top\n",
    "        # Finally the size increases in 1\n",
    "    def pop(self):\n",
    "        if self.top is None:\n",
    "            return None\n",
    "            # raise IndexError(' stack is empty')\n",
    "        data = self.top.data\n",
    "        self.top = self.top.below\n",
    "        self._size -= 1\n",
    "        return data\n",
    "        \n",
    "        #Use an if for verify the top exist\n",
    "        # if not exist return none\n",
    "        # we make a copy the data\n",
    "        # now the top is the below the top\n",
    "        # Finally the size decreases in 1\n",
    "    def size(self):\n",
    "        return self._size\n",
    "\n",
    "        #return the size variable\n",
    "        \n",
    "        \n",
    "    def peek(self):\n",
    "        if self.top is not None:\n",
    "            return self.top.data\n",
    "        else:\n",
    "            return None\n",
    "\n",
    "        #verify the top exist \n",
    "        # if the top exist return de data of top \n",
    "        # if not exist return None\n",
    "    \n",
    "    def is_empty(self):\n",
    "        return self.top is None\n",
    "\n",
    "        #return true or false if top exist or no\n",
    "\n",
    "    def print_stack(self):\n",
    "        tem = self.top\n",
    "        while tem is not None:\n",
    "            print(tem.data)\n",
    "            tem = tem.below\n",
    "\n",
    "        #create a temporary variable to traverse the stack, this variable inicialize in the top\n",
    "        #create a cycle that stops when the time variable is none\n",
    "        #print the data from tem variable\n",
    "        #now tem is the below node\n",
    "\n",
    "mystack = StackII()\n",
    "\n",
    "mystack.push(1)\n",
    "mystack.push(2)\n",
    "mystack.pop()\n",
    "mystack.push(3)\n",
    "\n",
    "mystack.print_stack()\n",
    "print('Size: ',mystack.size())\n",
    "print('Peek: ',mystack.peek())\n",
    "print('Empty: ',mystack.is_empty())\n",
    "\n",
    "mystack.print_stack()\n"
   ]
  },
  {
   "cell_type": "code",
   "execution_count": null,
   "id": "377bbbc3-afd6-4aa1-a6fe-0aea573cda51",
   "metadata": {},
   "outputs": [],
   "source": []
  }
 ],
 "metadata": {
  "kernelspec": {
   "display_name": "Python 3 (ipykernel)",
   "language": "python",
   "name": "python3"
  },
  "language_info": {
   "codemirror_mode": {
    "name": "ipython",
    "version": 3
   },
   "file_extension": ".py",
   "mimetype": "text/x-python",
   "name": "python",
   "nbconvert_exporter": "python",
   "pygments_lexer": "ipython3",
   "version": "3.10.12"
  }
 },
 "nbformat": 4,
 "nbformat_minor": 5
}
